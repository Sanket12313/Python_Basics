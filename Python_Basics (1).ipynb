{
  "nbformat": 4,
  "nbformat_minor": 0,
  "metadata": {
    "colab": {
      "provenance": []
    },
    "kernelspec": {
      "name": "python3",
      "display_name": "Python 3"
    },
    "language_info": {
      "name": "python"
    }
  },
  "cells": [
    {
      "cell_type": "markdown",
      "source": [
        "# Python Basics\n"
      ],
      "metadata": {
        "id": "ZMNS_dti5Vg3"
      }
    },
    {
      "cell_type": "markdown",
      "source": [
        "1. What is Python, and why is it popular?\n",
        "  -  Python is a high-level, interpreted programming language known for its\n",
        "      simplicity, readability, and versatlity\n",
        "\n",
        "      its clean, easy-to-understand syntax makes it an ideal language for beginners\n",
        "  \n",
        "   -  Reasons for Python's Popularity:\n",
        "\n",
        "      1 Ease of Learning and Use\n",
        "\n",
        "      2 Many Libraries\n",
        "\n",
        "2. What is an interpreter in Python?\n",
        "  - An interpreter in Python is a program that executes Python code directly, without the need to first compile it into machine code\n",
        "  - The interpreter processes Python code line by line, translating it into a form that the computer can execute\n",
        "\n",
        "3.  What are pre-defined keywords in Python?\n",
        "  - pre-defined keywords are words that have special meanings in the Python language and cannot be used as identifiers\n",
        "  - some keywords are :\n",
        "  - false , none , true , and\n",
        "\n",
        "4. Can keywords be used as variable names?\n",
        "  - No, keywords in Python cannot be used as variable names. Keywords are reserved words that have special meaning in the Python language, and they are used to define the structure and of Python code\n",
        "\n",
        "5.  What is mutability in Python?\n",
        "  - Mutability in Python refers to whether or not an object's state or value can be modified after it has been created. In Python, objects can be categorized into two types:\n",
        "\n",
        "  - Mutable objects: These are objects whose value can be changed after they are created.\n",
        "  - Immutable objects: These are objects whose  value cannot be changed after they are created.\n",
        "\n",
        "6. Why are lists mutable, but tuples are immutable?\n",
        " - Lists are mutable because lists are often used to store data that will change over time\n",
        " - tuples are immutable because once a tuple is created, it cannot be changed.\n",
        "\n",
        "7.  What is the difference between “==” and “is” operators in Python?\n",
        " - The == operator is used to compare the values of two objects to see if they are equal.\n",
        " - The is operator is used to compare the identity of two objects. It checks whether the two objects refer to the same memory location\n",
        "\n",
        "8. What are logical operators in Python?\n",
        " - Logical operators in Python are used to perform logical operations on values and variables. Here are the three main logical operators:\n",
        "\n",
        "   AND: The and operator returns True if both operands are true. Otherwise, it returns False.\n",
        "   \n",
        "   or: The or operator returns True if at least one of the operands is True. If both operands are False, it returns False.\n",
        "\n",
        "   not: The not operator is used to invert or a Boolean value. If the operand is True, it returns False, and if the operand is False, it returns True\n",
        "\n",
        "9. What is type casting in Python?\n",
        " - Type casting in Python refers to the process of converting a variable from one data type to another.\n",
        "\n",
        " -  Python provides functions for both implicit and explicit type casting.\n",
        "\n",
        " - Implicit Type Casting: happens automatically when Python converts one data type to another\n",
        " - Explicit type casting is when you manually convert one data type to another using type casting functions.\n",
        "\n",
        "10. What is the difference between implicit and explicit type casting?\n",
        "\n",
        " - Implicit Type Casting : Python automatically converts data types when necessary.\n",
        " - Explicit Type Casting : explicitly converts data types using functions.\n",
        "\n",
        "11. What is the purpose of conditional statements in Python?\n",
        " - Conditional statements in Python are used to make decisions in your code based on whether a certain condition is true or false.\n",
        " - Types of Conditional Statements in Python:\n",
        " - if statement\n",
        " - if-else statement\n",
        " - if-elif-else statement\n",
        "\n",
        "12. How does the elif statement work?\n",
        " - First, the if condition is evaluated.\n",
        " - If the if condition is True, its block of code is executed, and the program skips the remaining elif and else conditions.\n",
        " - If the if condition is False, the program proceeds to check the elif conditions.\n",
        " - The elif condition is only checked if all previous if or elif conditions were False.\n",
        " - If an elif condition is True, its corresponding block of code is executed, and the program skips any remaining elif or else conditions.\n",
        " - If none of the if or elif conditions are true, the else block is executed.\n",
        "\n",
        "13. What is the difference between for and while loops?\n",
        " - FOR LOOP :\n",
        " - Loops over a sequence\n",
        " - used When the number of iterations is known\n",
        " - Stops when the sequence is exhausted\n",
        " - ex:  for x in range(5):\n",
        "\n",
        " - WHILE LOOP:\n",
        " - Loops as long as a condition evaluates to True.\n",
        " - When the number of iterations is unknown\n",
        " - The loop continues as long as the condition is True.\n",
        " - EX   while x < 5:\n",
        "\n",
        "14. Describe a scenario where a while loop is more suitable than a for loop?\n",
        "\n",
        " - A while loop is more suitable than a for loop in scenarios where the number of iterations is not known in advance or when you need to repeat a task until a specific condition is met. This makes while loops ideal for situations where the loop should continue until something dynamic or unpredictable happens\n",
        "\n",
        "\n",
        "\n",
        "# Practical Questions\n",
        "\n",
        "1. Write a Python program to print \"Hello, World!\"?\n",
        "\n",
        "\n",
        "\n",
        "\n",
        "\n",
        "\n"
      ],
      "metadata": {
        "id": "UWztRi4M5yjl"
      }
    },
    {
      "cell_type": "code",
      "source": [
        "print(\"Hello, World!\")"
      ],
      "metadata": {
        "colab": {
          "base_uri": "https://localhost:8080/"
        },
        "id": "bwCp2M_uODEI",
        "outputId": "d3acb922-8de3-4d45-948d-b0b5eb03e9af"
      },
      "execution_count": 1,
      "outputs": [
        {
          "output_type": "stream",
          "name": "stdout",
          "text": [
            "Hello, World!\n"
          ]
        }
      ]
    },
    {
      "cell_type": "code",
      "source": [],
      "metadata": {
        "id": "lWclRanqN_O8"
      },
      "execution_count": null,
      "outputs": []
    },
    {
      "cell_type": "markdown",
      "source": [
        "   2. Write a Python program that displays your name and age?\n",
        "\n",
        "  "
      ],
      "metadata": {
        "id": "br-MLbriOkqg"
      }
    },
    {
      "cell_type": "code",
      "source": [],
      "metadata": {
        "id": "4CMt_MCNPlqK"
      },
      "execution_count": null,
      "outputs": []
    },
    {
      "cell_type": "code",
      "source": [],
      "metadata": {
        "id": "7tyuiM5nPmoI"
      },
      "execution_count": null,
      "outputs": []
    },
    {
      "cell_type": "code",
      "execution_count": 2,
      "metadata": {
        "colab": {
          "base_uri": "https://localhost:8080/"
        },
        "id": "cvoimeat5Usr",
        "outputId": "d428e74e-0797-403f-9770-db816cf7f112"
      },
      "outputs": [
        {
          "output_type": "stream",
          "name": "stdout",
          "text": [
            "Name: Sanket Mahajan\n",
            "Age: 25\n"
          ]
        }
      ],
      "source": [
        "\n",
        "name = \"Sanket Mahajan\"\n",
        "age = 25\n",
        "\n",
        "print(\"Name:\", name)\n",
        "print(\"Age:\", age)\n"
      ]
    },
    {
      "cell_type": "markdown",
      "source": [
        "   3. Write code to print all the pre-defined keywords in Python using the keyword library?"
      ],
      "metadata": {
        "id": "JDVBX2qRPv1g"
      }
    },
    {
      "cell_type": "code",
      "source": [
        "\n",
        "\n",
        "import keyword\n",
        "keywords = keyword.kwlist\n",
        "\n",
        "print(\"List of Python Keywords:\")\n",
        "for kw in keywords:\n",
        "    print(kw)\n"
      ],
      "metadata": {
        "colab": {
          "base_uri": "https://localhost:8080/"
        },
        "id": "r3fFmOP3Pq6f",
        "outputId": "fe956dc0-e76d-4703-b437-537eeb141bd6"
      },
      "execution_count": 3,
      "outputs": [
        {
          "output_type": "stream",
          "name": "stdout",
          "text": [
            "List of Python Keywords:\n",
            "False\n",
            "None\n",
            "True\n",
            "and\n",
            "as\n",
            "assert\n",
            "async\n",
            "await\n",
            "break\n",
            "class\n",
            "continue\n",
            "def\n",
            "del\n",
            "elif\n",
            "else\n",
            "except\n",
            "finally\n",
            "for\n",
            "from\n",
            "global\n",
            "if\n",
            "import\n",
            "in\n",
            "is\n",
            "lambda\n",
            "nonlocal\n",
            "not\n",
            "or\n",
            "pass\n",
            "raise\n",
            "return\n",
            "try\n",
            "while\n",
            "with\n",
            "yield\n"
          ]
        }
      ]
    },
    {
      "cell_type": "markdown",
      "source": [
        "  4.  Write a program that checks if a given word is a Python keyword?\n",
        "\n",
        "\n",
        "\n",
        "  "
      ],
      "metadata": {
        "id": "QWJ4U0S7QtgA"
      }
    },
    {
      "cell_type": "code",
      "source": [
        "\n",
        "\n",
        "import keyword\n",
        "def is_python_keyword(word):\n",
        "    if keyword.iskeyword(word):\n",
        "        print(f\"'{word}' is a Python keyword.\")\n",
        "    else:\n",
        "        print(f\"'{word}' is not a Python keyword.\")\n",
        "\n",
        "word = input(\"Enter a word to check if it's a Python keyword: \")\n",
        "\n",
        "is_python_keyword(word)\n"
      ],
      "metadata": {
        "colab": {
          "base_uri": "https://localhost:8080/"
        },
        "id": "OVedJn9CQ-k4",
        "outputId": "264a9dd3-cae8-4db5-c67d-2895380e08f8"
      },
      "execution_count": 4,
      "outputs": [
        {
          "output_type": "stream",
          "name": "stdout",
          "text": [
            "Enter a word to check if it's a Python keyword: for\n",
            "'for' is a Python keyword.\n"
          ]
        }
      ]
    },
    {
      "cell_type": "markdown",
      "source": [
        "   5. Create a list and tuple in Python, and demonstrate how attempting to change an element works differently\n",
        "for each"
      ],
      "metadata": {
        "id": "XhrMUWkVSFwp"
      }
    },
    {
      "cell_type": "code",
      "source": [
        "\n",
        "my_list = [10, 20, 30, 40, 50]\n",
        "my_tuple = (10, 20, 30, 40, 50)\n",
        "\n",
        "print(\"Original List:\", my_list)\n",
        "my_list[2] = 100\n",
        "print(\"Modified List:\", my_list)\n",
        "print(\"\\nOriginal Tuple:\", my_tuple)\n",
        "try:\n",
        "    my_tuple[2] = 100\n",
        "except TypeError as e:\n",
        "    print(\"Error:\", e)\n"
      ],
      "metadata": {
        "colab": {
          "base_uri": "https://localhost:8080/"
        },
        "id": "iL-rUmTtSUPQ",
        "outputId": "955f78f1-ba96-4fa7-9182-59d535b859ac"
      },
      "execution_count": 5,
      "outputs": [
        {
          "output_type": "stream",
          "name": "stdout",
          "text": [
            "Original List: [10, 20, 30, 40, 50]\n",
            "Modified List: [10, 20, 100, 40, 50]\n",
            "\n",
            "Original Tuple: (10, 20, 30, 40, 50)\n",
            "Error: 'tuple' object does not support item assignment\n"
          ]
        }
      ]
    },
    {
      "cell_type": "markdown",
      "source": [
        "  6. Write a function to demonstrate the behavior of mutable and immutable arguments?\n",
        "\n",
        "   "
      ],
      "metadata": {
        "id": "C9AEeLctS8iI"
      }
    },
    {
      "cell_type": "code",
      "source": [
        "def modify_arguments(immutable_arg, mutable_arg):\n",
        "    print(f\"Before modifying immutable_arg: {immutable_arg}\")\n",
        "    immutable_arg += 10\n",
        "    print(f\"After modifying immutable_arg: {immutable_arg}\")\n",
        "\n",
        "\n",
        "    print(f\"Before modifying mutable_arg: {mutable_arg}\")\n",
        "    mutable_arg.append(100)\n",
        "    print(f\"After modifying mutable_arg: {mutable_arg}\")\n",
        "\n",
        "\n",
        "immutable_example = 5\n",
        "mutable_example = [1, 2, 3]\n",
        "\n",
        "\n",
        "print(\"Calling the function with mutable and immutable arguments:\")\n",
        "modify_arguments(immutable_example, mutable_example)\n",
        "\n",
        "\n",
        "print(\"\\nAfter function call:\")\n",
        "print(f\"Original immutable_example: {immutable_example}\")\n",
        "print(f\"Original mutable_example: {mutable_example}\")\n"
      ],
      "metadata": {
        "colab": {
          "base_uri": "https://localhost:8080/"
        },
        "id": "_VKt2LsmTGFh",
        "outputId": "6ef415a4-aa10-45b7-976c-684136684d76"
      },
      "execution_count": 6,
      "outputs": [
        {
          "output_type": "stream",
          "name": "stdout",
          "text": [
            "Calling the function with mutable and immutable arguments:\n",
            "Before modifying immutable_arg: 5\n",
            "After modifying immutable_arg: 15\n",
            "Before modifying mutable_arg: [1, 2, 3]\n",
            "After modifying mutable_arg: [1, 2, 3, 100]\n",
            "\n",
            "After function call:\n",
            "Original immutable_example: 5\n",
            "Original mutable_example: [1, 2, 3, 100]\n"
          ]
        }
      ]
    },
    {
      "cell_type": "markdown",
      "source": [
        "  7. Write a function to demonstrate the behavior of mutable and immutable arguments?\n",
        "\n",
        "  "
      ],
      "metadata": {
        "id": "s4ZOu5jEUVw6"
      }
    },
    {
      "cell_type": "code",
      "source": [],
      "metadata": {
        "id": "YGEFbbZAUisZ"
      },
      "execution_count": null,
      "outputs": []
    },
    {
      "cell_type": "code",
      "source": [
        "def modify_arguments(immutable_arg, mutable_arg):\n",
        "    print(f\"Before modifying immutable_arg: {immutable_arg}\")\n",
        "    immutable_arg += 10\n",
        "    print(f\"After modifying immutable_arg: {immutable_arg}\")\n",
        "\n",
        "\n",
        "    print(f\"Before modifying mutable_arg: {mutable_arg}\")\n",
        "    mutable_arg.append(100)\n",
        "    print(f\"After modifying mutable_arg: {mutable_arg}\")\n",
        "\n",
        "\n",
        "immutable_example = 5\n",
        "mutable_example = [1, 2, 3]\n",
        "\n",
        "\n",
        "print(\"Calling the function with mutable and immutable arguments:\")\n",
        "modify_arguments(immutable_example, mutable_example)\n",
        "\n",
        "\n",
        "print(\"\\nAfter function call:\")\n",
        "print(f\"Original immutable_example: {immutable_example}\")\n",
        "print(f\"Original mutable_example: {mutable_example}\")\n"
      ],
      "metadata": {
        "colab": {
          "base_uri": "https://localhost:8080/"
        },
        "outputId": "6ef415a4-aa10-45b7-976c-684136684d76",
        "id": "yxj6aY3AUnsi"
      },
      "execution_count": null,
      "outputs": [
        {
          "output_type": "stream",
          "name": "stdout",
          "text": [
            "Calling the function with mutable and immutable arguments:\n",
            "Before modifying immutable_arg: 5\n",
            "After modifying immutable_arg: 15\n",
            "Before modifying mutable_arg: [1, 2, 3]\n",
            "After modifying mutable_arg: [1, 2, 3, 100]\n",
            "\n",
            "After function call:\n",
            "Original immutable_example: 5\n",
            "Original mutable_example: [1, 2, 3, 100]\n"
          ]
        }
      ]
    },
    {
      "cell_type": "markdown",
      "source": [
        "   8. Write a program to demonstrate the use of logical operators?\n",
        "\n",
        "   "
      ],
      "metadata": {
        "id": "zmjnKVobUqCY"
      }
    },
    {
      "cell_type": "code",
      "source": [
        "\n",
        "x = True\n",
        "y = False\n",
        "\n",
        "print(\"x and y:\", x and y)\n",
        "print(\"x or y:\", x or y)\n",
        "\n",
        "print(\"not x:\", not x)\n",
        "print(\"not y:\", not y)\n",
        "\n",
        "\n",
        "a = 10\n",
        "b = 20\n",
        "\n",
        "\n",
        "print(\"\\nIs a greater than 5 and b less than 30?\", a > 5 and b < 30)\n",
        "print(\"Is a greater than 15 or b less than 25?\", a > 15 or b < 25)\n",
        "\n",
        "\n",
        "print(\"Is not a greater than 15?\", not a > 15)\n"
      ],
      "metadata": {
        "colab": {
          "base_uri": "https://localhost:8080/"
        },
        "id": "yMSSEq5VUyYY",
        "outputId": "db589e23-896c-4c14-bb58-48542fdca6a0"
      },
      "execution_count": 7,
      "outputs": [
        {
          "output_type": "stream",
          "name": "stdout",
          "text": [
            "x and y: False\n",
            "x or y: True\n",
            "not x: False\n",
            "not y: True\n",
            "\n",
            "Is a greater than 5 and b less than 30? True\n",
            "Is a greater than 15 or b less than 25? True\n",
            "Is not a greater than 15? True\n"
          ]
        }
      ]
    },
    {
      "cell_type": "markdown",
      "source": [
        "   9. Write a Python program to convert user input from string to integer, float, and boolean types?\n",
        "\n",
        "   "
      ],
      "metadata": {
        "id": "7ewS0pnPWUKJ"
      }
    },
    {
      "cell_type": "code",
      "source": [
        "\n",
        "user_input = input(\"Enter a value: \")\n",
        "\n",
        "try:\n",
        "    int_value = int(user_input)\n",
        "    print(f\"Integer conversion: {int_value}\")\n",
        "except ValueError:\n",
        "    print(\"Cannot convert to integer.\")\n",
        "\n",
        "try:\n",
        "    float_value = float(user_input)\n",
        "    print(f\"Float conversion: {float_value}\")\n",
        "except ValueError:\n",
        "    print(\"Cannot convert to float.\")\n",
        "\n",
        "\n",
        "bool_value = bool(user_input)\n",
        "print(f\"Boolean conversion: {bool_value}\")\n"
      ],
      "metadata": {
        "colab": {
          "base_uri": "https://localhost:8080/"
        },
        "id": "B3ZuLtiGXVZV",
        "outputId": "c1cdd8a2-b01f-4203-9f7b-4b549bf33dd3"
      },
      "execution_count": 8,
      "outputs": [
        {
          "output_type": "stream",
          "name": "stdout",
          "text": [
            "Enter a value: 10\n",
            "Integer conversion: 10\n",
            "Float conversion: 10.0\n",
            "Boolean conversion: True\n"
          ]
        }
      ]
    },
    {
      "cell_type": "markdown",
      "source": [
        "  10. Write code to demonstrate type casting with list elements?\n",
        "\n",
        "  "
      ],
      "metadata": {
        "id": "EtcpDO34YCk6"
      }
    },
    {
      "cell_type": "code",
      "source": [
        "\n",
        "string_list = [\"1\", \"2\", \"3\", \"4\", \"5\"]\n",
        "print(\"Original list (strings):\", string_list)\n",
        "\n",
        "int_list = [int(x) for x in string_list]\n",
        "print(\"List after type casting to integers:\", int_list)\n",
        "\n",
        "integer_list = [1, 2, 3, 4, 5]\n",
        "print(\"\\nOriginal list (integers):\", integer_list)\n",
        "\n",
        "str_list = [str(x) for x in integer_list]\n",
        "print(\"List after type casting to strings:\", str_list)\n",
        "\n",
        "float_list = [1.1, 2.2, 3.3, 4.4, 5.5]\n",
        "print(\"\\nOriginal list (floats):\", float_list)\n",
        "\n",
        "int_from_float_list = [int(x) for x in float_list]\n",
        "print(\"List after type casting floats to integers:\", int_from_float_list)\n"
      ],
      "metadata": {
        "colab": {
          "base_uri": "https://localhost:8080/"
        },
        "id": "hKN7uZ7lYOmI",
        "outputId": "533f6fb8-dbff-4888-fe03-b92a09157f05"
      },
      "execution_count": 9,
      "outputs": [
        {
          "output_type": "stream",
          "name": "stdout",
          "text": [
            "Original list (strings): ['1', '2', '3', '4', '5']\n",
            "List after type casting to integers: [1, 2, 3, 4, 5]\n",
            "\n",
            "Original list (integers): [1, 2, 3, 4, 5]\n",
            "List after type casting to strings: ['1', '2', '3', '4', '5']\n",
            "\n",
            "Original list (floats): [1.1, 2.2, 3.3, 4.4, 5.5]\n",
            "List after type casting floats to integers: [1, 2, 3, 4, 5]\n"
          ]
        }
      ]
    },
    {
      "cell_type": "markdown",
      "source": [
        "  11. Write a program that checks if a number is positive, negative, or zero?\n",
        "\n",
        "  "
      ],
      "metadata": {
        "id": "GNpQz6jlZJ5J"
      }
    },
    {
      "cell_type": "code",
      "source": [
        "\n",
        "num = float(input(\"Enter a number: \"))\n",
        "\n",
        "if num > 0:\n",
        "    print(f\"The number {num} is positive.\")\n",
        "elif num < 0:\n",
        "    print(f\"The number {num} is negative.\")\n",
        "else:\n",
        "    print(f\"The number {num} is zero.\")\n"
      ],
      "metadata": {
        "colab": {
          "base_uri": "https://localhost:8080/"
        },
        "id": "MGiN7sk6ZRbR",
        "outputId": "c234e171-b1da-4a6e-b4a2-f94eb2ad1580"
      },
      "execution_count": 10,
      "outputs": [
        {
          "output_type": "stream",
          "name": "stdout",
          "text": [
            "Enter a number: 101\n",
            "The number 101.0 is positive.\n"
          ]
        }
      ]
    },
    {
      "cell_type": "markdown",
      "source": [
        "  12.  Write a for loop to print numbers from 1 to 100?\n",
        "   \n",
        "   "
      ],
      "metadata": {
        "id": "43KpFG6YZhyR"
      }
    },
    {
      "cell_type": "code",
      "source": [
        "for number in range(1, 101):\n",
        "    print(number)"
      ],
      "metadata": {
        "colab": {
          "base_uri": "https://localhost:8080/"
        },
        "id": "sdYxIEQuZpgi",
        "outputId": "cad7bdfb-6698-4d2f-ee14-793cdc4c605e"
      },
      "execution_count": 11,
      "outputs": [
        {
          "output_type": "stream",
          "name": "stdout",
          "text": [
            "1\n",
            "2\n",
            "3\n",
            "4\n",
            "5\n",
            "6\n",
            "7\n",
            "8\n",
            "9\n",
            "10\n",
            "11\n",
            "12\n",
            "13\n",
            "14\n",
            "15\n",
            "16\n",
            "17\n",
            "18\n",
            "19\n",
            "20\n",
            "21\n",
            "22\n",
            "23\n",
            "24\n",
            "25\n",
            "26\n",
            "27\n",
            "28\n",
            "29\n",
            "30\n",
            "31\n",
            "32\n",
            "33\n",
            "34\n",
            "35\n",
            "36\n",
            "37\n",
            "38\n",
            "39\n",
            "40\n",
            "41\n",
            "42\n",
            "43\n",
            "44\n",
            "45\n",
            "46\n",
            "47\n",
            "48\n",
            "49\n",
            "50\n",
            "51\n",
            "52\n",
            "53\n",
            "54\n",
            "55\n",
            "56\n",
            "57\n",
            "58\n",
            "59\n",
            "60\n",
            "61\n",
            "62\n",
            "63\n",
            "64\n",
            "65\n",
            "66\n",
            "67\n",
            "68\n",
            "69\n",
            "70\n",
            "71\n",
            "72\n",
            "73\n",
            "74\n",
            "75\n",
            "76\n",
            "77\n",
            "78\n",
            "79\n",
            "80\n",
            "81\n",
            "82\n",
            "83\n",
            "84\n",
            "85\n",
            "86\n",
            "87\n",
            "88\n",
            "89\n",
            "90\n",
            "91\n",
            "92\n",
            "93\n",
            "94\n",
            "95\n",
            "96\n",
            "97\n",
            "98\n",
            "99\n",
            "100\n"
          ]
        }
      ]
    },
    {
      "cell_type": "markdown",
      "source": [
        "  13. Write a Python program to find the sum of all even numbers between 1 and 50?\n",
        "\n",
        "  "
      ],
      "metadata": {
        "id": "1Mgx2hI2Z1ua"
      }
    },
    {
      "cell_type": "code",
      "source": [
        "\n",
        "sum_of_evens = 0\n",
        "\n",
        "for number in range(1, 51):\n",
        "    if number % 2 == 0:\n",
        "        sum_of_evens += number\n",
        "\n",
        "print(\"The sum of all even numbers between 1 and 50 is:\", sum_of_evens)\n"
      ],
      "metadata": {
        "colab": {
          "base_uri": "https://localhost:8080/"
        },
        "id": "4W2vIydgaH6S",
        "outputId": "355b7bbf-755f-4c50-dd94-9f15f0753fe5"
      },
      "execution_count": 12,
      "outputs": [
        {
          "output_type": "stream",
          "name": "stdout",
          "text": [
            "The sum of all even numbers between 1 and 50 is: 650\n"
          ]
        }
      ]
    },
    {
      "cell_type": "markdown",
      "source": [
        "  14. Write a program to reverse a string using a while loop?\n",
        "  "
      ],
      "metadata": {
        "id": "D2O3JeonaaYK"
      }
    },
    {
      "cell_type": "code",
      "source": [
        "\n",
        "input_string = input(\"Enter a string: \")\n",
        "\n",
        "reversed_string = \"\"\n",
        "index = len(input_string) - 1\n",
        "\n",
        "\n",
        "while index >= 0:\n",
        "    reversed_string += input_string[index]\n",
        "    index -= 1\n",
        "\n",
        "print(\"Reversed string:\", reversed_string)\n"
      ],
      "metadata": {
        "colab": {
          "base_uri": "https://localhost:8080/"
        },
        "id": "uzeUr-k3aj-q",
        "outputId": "f884467f-440e-4c55-db5f-84a7c36c1425"
      },
      "execution_count": 13,
      "outputs": [
        {
          "output_type": "stream",
          "name": "stdout",
          "text": [
            "Enter a string: sanket\n",
            "Reversed string: teknas\n"
          ]
        }
      ]
    },
    {
      "cell_type": "markdown",
      "source": [
        "   15. Write a Python program to calculate the factorial of a number provided by the user using a while loop?\n",
        "\n",
        "   "
      ],
      "metadata": {
        "id": "aDpJTXB5boZr"
      }
    },
    {
      "cell_type": "markdown",
      "source": [
        "*italicised text*"
      ],
      "metadata": {
        "id": "T-QLvndpckDr"
      }
    },
    {
      "cell_type": "code",
      "source": [
        "\n",
        "num = int(input(\"Enter a number to calculate its factorial: \"))\n",
        "\n",
        "factorial = 1\n",
        "\n",
        "if num < 0:\n",
        "    print(\"Factorial is not defined for negative numbers.\")\n",
        "else:\n",
        "    i = 1\n",
        "    while i <= num:\n",
        "        factorial *= i\n",
        "        i += 1\n",
        "\n",
        "    print(f\"The factorial of {num} is {factorial}\")\n"
      ],
      "metadata": {
        "colab": {
          "base_uri": "https://localhost:8080/"
        },
        "id": "6hvxvb_qcmvj",
        "outputId": "1158f2d1-0205-422f-9483-e0f0ff99a55d"
      },
      "execution_count": 14,
      "outputs": [
        {
          "output_type": "stream",
          "name": "stdout",
          "text": [
            "Enter a number to calculate its factorial: 111\n",
            "The factorial of 111 is 1762952551090244663872161047107075788761409536026565516041574063347346955087248316436555574598462315773196047662837978913145847497199871623320096254145331200000000000000000000000000\n"
          ]
        }
      ]
    }
  ]
}